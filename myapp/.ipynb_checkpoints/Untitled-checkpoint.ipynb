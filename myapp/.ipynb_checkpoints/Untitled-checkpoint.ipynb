{
 "cells": [
  {
   "cell_type": "code",
   "execution_count": 2,
   "metadata": {},
   "outputs": [],
   "source": [
    "import cv2\n",
    "\n",
    "src = cv2.imread(r\"C:\\Users\\LIGS\\myapp\\pangkyogo\\myapp\\sampledata\\1.jpg\", cv2.IMREAD_COLOR)\n",
    "\n",
    "gray = cv2.cvtColor(src, cv2.COLOR_RGB2GRAY)\n",
    "ret, dst = cv2.threshold(gray, 205, 255, 1)\n",
    "\n",
    "cv2.imshow(\"dst\", dst)\n",
    "cv2.waitKey(0)\n",
    "cv2.destroyAllWindows()\n"
   ]
  },
  {
   "cell_type": "code",
   "execution_count": 3,
   "metadata": {},
   "outputs": [],
   "source": [
    "def resize(file):\n",
    "    img = Image.open(file)\n",
    "    new_height = 1280\n",
    "    new_width  = int(new_height * img.width / img.height)\n",
    "    print(file)\n",
    "    resized_img = img.resize((new_width, new_height), Image.ANTIALIAS)\n",
    "    resized_img.save(file)"
   ]
  },
  {
   "cell_type": "code",
   "execution_count": 5,
   "metadata": {},
   "outputs": [
    {
     "name": "stdout",
     "output_type": "stream",
     "text": [
      "C:\\Users\\LIGS\\myapp\\pangkyogo\\myapp\\sampledata\\1.jpg\n"
     ]
    },
    {
     "data": {
      "image/png": "[encoded data removed]",
      "text/plain": [
       "<Figure size 432x288 with 1 Axes>"
      ]
     },
     "metadata": {
      "needs_background": "light"
     },
     "output_type": "display_data"
    },
    {
     "data": {
      "image/png": "[encoded data removed]",
      "text/plain": [
       "<Figure size 432x288 with 1 Axes>"
      ]
     },
     "metadata": {
      "needs_background": "light"
     },
     "output_type": "display_data"
    },
    {
     "name": "stdout",
     "output_type": "stream",
     "text": [
      "place: 화랑공원 입구\n",
      "time: 0:19:59\n"
     ]
    }
   ],
   "source": [
    "\n",
    "\n",
    "#알 1, 3, 6, 55, 66\n",
    "import pytesseract\n",
    "from PIL import Image \n",
    "import pytesseract \n",
    "import argparse \n",
    "import cv2 \n",
    "import os \n",
    "import matplotlib.pyplot as plt\n",
    "import numpy as np\n",
    "\n",
    "path = r\"C:\\Users\\LIGS\\myapp\\pangkyogo\\myapp\\sampledata\\1.jpg\"\n",
    "\n",
    "resize(path)\n",
    "\n",
    "src = cv2.imread(path, cv2.IMREAD_COLOR)\n",
    "gray = cv2.cvtColor(src, cv2.COLOR_RGB2GRAY)\n",
    "ret, dst = cv2.threshold(gray, 202, 255, 1)\n",
    "    \n",
    "#roi = im[y1:y2, x1:x2]\n",
    "#filename = \"{}.jpg\".format(os.getpid()) \n",
    "#cv2.imwrite(filename, dst) \n",
    "\n",
    "dst1 = dst[84:160, 146:511]\n",
    "dst2 = dst[270:311, 238:391]\n",
    "\n",
    "# erode 적용\n",
    "tick= 2\n",
    "kernel = np.ones((tick, tick), np.uint8)\n",
    "dst1 = cv2.erode(dst1, kernel, iterations=3)  \n",
    "    \n",
    "plt.imshow(dst1)\n",
    "plt.show()\n",
    "plt.imshow(dst2)\n",
    "plt.show()\n",
    "\n",
    "pytesseract.pytesseract.tesseract_cmd = r'C:/Program Files/Tesseract-OCR/tesseract'\n",
    "tessdata_dir_config = r'--tessdata-dir \"C:\\Program Files\\Tesseract-OCR\\tessdata\"'\n",
    "print('place:', pytesseract.image_to_string(dst1, config='--oem 3 --psm 3', lang='kor+eng'))\n",
    "print('time:', pytesseract.image_to_string(dst2, config='--oem 3 --psm 6 -c tessedit_char_whitelist=:0123456789'))\n",
    "\n",
    "\n"
   ]
  },
  {
   "cell_type": "code",
   "execution_count": 11,
   "metadata": {},
   "outputs": [
    {
     "data": {
      "image/png": "[encoded data removed]",
      "text/plain": [
       "<Figure size 432x288 with 1 Axes>"
      ]
     },
     "metadata": {
      "needs_background": "light"
     },
     "output_type": "display_data"
    },
    {
     "data": {
      "image/png": "[encoded data removed]",
      "text/plain": [
       "<Figure size 432x288 with 1 Axes>"
      ]
     },
     "metadata": {
      "needs_background": "light"
     },
     "output_type": "display_data"
    },
    {
     "data": {
      "image/png": "[encoded data removed]",
      "text/plain": [
       "<Figure size 432x288 with 1 Axes>"
      ]
     },
     "metadata": {
      "needs_background": "light"
     },
     "output_type": "display_data"
    },
    {
     "name": "stdout",
     "output_type": "stream",
     "text": [
      "place: 540 Worshipper\n",
      "name: \n",
      "time: 0:30:39\n"
     ]
    }
   ],
   "source": [
    "\n",
    "#몬스터   4  33  44\n",
    "import pytesseract\n",
    "from PIL import Image \n",
    "import pytesseract, argparse, cv2, os\n",
    "\n",
    "src = cv2.imread(r\"C:\\Users\\LIGS\\myapp\\pangkyogo\\myapp\\sampledata\\4.jpg\", cv2.IMREAD_COLOR)\n",
    "gray = cv2.cvtColor(src, cv2.COLOR_RGB2GRAY)\n",
    "ret, dst = cv2.threshold(gray, 207, 255, 1)\n",
    "\n",
    "#roi = im[y1:y2, x1:x2]\n",
    "#filename = \"{}.jpg\".format(os.getpid()) \n",
    "#cv2.imwrite(filename, dst) \n",
    "\n",
    "dst1 = dst[84:163, 146:511]\n",
    "dst2 = dst[213:400, 128:474]\n",
    "dst3 = dst[697:743, 474:576]\n",
    "\n",
    "# edge 적용\n",
    "#dst2 = cv2.Canny(dst2, 82,426)\n",
    "\n",
    "# erode 적용\n",
    "tick= 2\n",
    "kernel = np.ones((tick, tick), np.uint8)\n",
    "dst1 = cv2.erode(dst1, kernel, iterations=1)  \n",
    "\n",
    "plt.imshow(dst1)\n",
    "plt.show()\n",
    "plt.imshow(dst2)\n",
    "plt.show()\n",
    "plt.imshow(dst3)\n",
    "plt.show()\n",
    "\n",
    "pytesseract.pytesseract.tesseract_cmd = r'C:/Program Files/Tesseract-OCR/tesseract'\n",
    "custom_oem_psm_config = r'--oem 3 --psm 12'\n",
    "tessdata_dir_config = r'--tessdata-dir \"C:\\Program Files\\Tesseract-OCR\\tessdata\"'\n",
    "print('place:', pytesseract.image_to_string(dst1, config=custom_oem_psm_config, lang='kor+eng'))\n",
    "print('name:', pytesseract.image_to_string(dst2, config='--oem 3 --psm 6', lang='kor+eng'))\n",
    "print('time:', pytesseract.image_to_string(dst3, config='--oem 3 --psm 6 -c tessedit_char_whitelist=:0123456789', lang='kor'))#몬스터   4  33  44\n"
   ]
  }
 ],
 "metadata": {
  "kernelspec": {
   "display_name": "Python 3",
   "language": "python",
   "name": "python3"
  },
  "language_info": {
   "codemirror_mode": {
    "name": "ipython",
    "version": 3
   },
   "file_extension": ".py",
   "mimetype": "text/x-python",
   "name": "python",
   "nbconvert_exporter": "python",
   "pygments_lexer": "ipython3",
   "version": "3.7.3"
  }
 },
 "nbformat": 4,
 "nbformat_minor": 4
}
